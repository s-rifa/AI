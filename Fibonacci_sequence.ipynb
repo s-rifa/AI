{
  "nbformat": 4,
  "nbformat_minor": 0,
  "metadata": {
    "colab": {
      "name": "Fibonacci sequence.ipynb",
      "provenance": []
    },
    "kernelspec": {
      "name": "python3",
      "display_name": "Python 3"
    }
  },
  "cells": [
    {
      "cell_type": "code",
      "metadata": {
        "id": "Dn2_eU_K61ZX",
        "colab_type": "code",
        "colab": {
          "base_uri": "https://localhost:8080/",
          "height": 228
        },
        "outputId": "b274a082-e273-433b-943c-60f17647eb57"
      },
      "source": [
        "#PYTHON PROGRAM USING LOOP\n",
        "n=int(input(\"Enter the number of terms : \"))\n",
        "print(\"FIBONACCI NUMBERS ({})\".format(n))\n",
        "a=0\n",
        "b=1\n",
        "print(\"{}\\n{}\".format(a,b))\n",
        "for i in range(3,n+1):\n",
        "  c=a+b\n",
        "  a=b\n",
        "  b=c\n",
        "  print(c)"
      ],
      "execution_count": 10,
      "outputs": [
        {
          "output_type": "stream",
          "text": [
            "Enter the number of terms : 10\n",
            "FIBONACCI NUMBERS (10)\n",
            "0\n",
            "1\n",
            "1\n",
            "2\n",
            "3\n",
            "5\n",
            "8\n",
            "13\n",
            "21\n",
            "34\n"
          ],
          "name": "stdout"
        }
      ]
    },
    {
      "cell_type": "code",
      "metadata": {
        "id": "m77mMFD2948y",
        "colab_type": "code",
        "colab": {
          "base_uri": "https://localhost:8080/",
          "height": 228
        },
        "outputId": "00f9aed0-41cd-423d-9b20-8c77207b03bf"
      },
      "source": [
        "#PYTHON PROGRAM USING RECURSION \n",
        "def fib(n):\n",
        "  if n<=1:\n",
        "    return n\n",
        "  else:\n",
        "    return fib(n-1)+fib(n-2)\n",
        "x=int(input(\"Enter the number of terms : \"))\n",
        "print(\"FIBONACCI NUMBERS ({})\".format(x))\n",
        "for i in range(x):\n",
        "  print(fib(i))"
      ],
      "execution_count": 11,
      "outputs": [
        {
          "output_type": "stream",
          "text": [
            "Enter the number of terms : 10\n",
            "FIBONACCI NUMBERS (10)\n",
            "0\n",
            "1\n",
            "1\n",
            "2\n",
            "3\n",
            "5\n",
            "8\n",
            "13\n",
            "21\n",
            "34\n"
          ],
          "name": "stdout"
        }
      ]
    },
    {
      "cell_type": "code",
      "metadata": {
        "id": "BQEHYNjm-mn3",
        "colab_type": "code",
        "colab": {}
      },
      "source": [
        ""
      ],
      "execution_count": 0,
      "outputs": []
    }
  ]
}