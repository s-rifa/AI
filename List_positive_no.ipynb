{
  "nbformat": 4,
  "nbformat_minor": 0,
  "metadata": {
    "colab": {
      "name": "List_positive_no.ipynb",
      "provenance": []
    },
    "kernelspec": {
      "name": "python3",
      "display_name": "Python 3"
    }
  },
  "cells": [
    {
      "cell_type": "code",
      "metadata": {
        "id": "DKHgGMqXFrmd",
        "colab_type": "code",
        "colab": {
          "base_uri": "https://localhost:8080/",
          "height": 158
        },
        "outputId": "dd11015d-d0e1-42b2-f888-d90fcfd5737a"
      },
      "source": [
        "n=int(input(\"Enter the number of elements : \"))\n",
        "list1=[]; list_1=[]\n",
        "for i in range(n):\n",
        "  x=int(input(\"Enter a number : \"))\n",
        "  list1.append(x)\n",
        "print(\"list1 : \",list1)\n",
        "for j in list1:\n",
        "  if j>0:\n",
        "    list_1.append(j)\n",
        "print(\"Output list1 : \",list_1)"
      ],
      "execution_count": 6,
      "outputs": [
        {
          "output_type": "stream",
          "text": [
            "Enter the number of elements : 5\n",
            "Enter a number : 12\n",
            "Enter a number : -7\n",
            "Enter a number : 5\n",
            "Enter a number : 64\n",
            "Enter a number : -14\n",
            "list1 :  [12, -7, 5, 64, -14]\n",
            "Output list1 :  [12, 5, 64]\n"
          ],
          "name": "stdout"
        }
      ]
    },
    {
      "cell_type": "code",
      "metadata": {
        "id": "23vQmzNnH4Dg",
        "colab_type": "code",
        "colab": {
          "base_uri": "https://localhost:8080/",
          "height": 140
        },
        "outputId": "aca11bf0-8258-4ca3-b110-c1402d3ba5a2"
      },
      "source": [
        "n=int(input(\"Enter the number of elements : \"))\n",
        "list2=[]; list_2=[]\n",
        "for i in range(n):\n",
        "  x=int(input(\"Enter a number : \"))\n",
        "  list2.append(x)\n",
        "print(\"list2 : \",list2)\n",
        "for j in list2:\n",
        "  if j>0:\n",
        "    list_2.append(j)\n",
        "print(\"Output list2 : \",list_2)"
      ],
      "execution_count": 7,
      "outputs": [
        {
          "output_type": "stream",
          "text": [
            "Enter the number of elements : 4\n",
            "Enter a number : 12\n",
            "Enter a number : 14\n",
            "Enter a number : -95\n",
            "Enter a number : 3\n",
            "list2 :  [12, 14, -95, 3]\n",
            "Output list2 :  [12, 14, 3]\n"
          ],
          "name": "stdout"
        }
      ]
    },
    {
      "cell_type": "code",
      "metadata": {
        "id": "b5jKIsWqIIqr",
        "colab_type": "code",
        "colab": {}
      },
      "source": [
        ""
      ],
      "execution_count": null,
      "outputs": []
    }
  ]
}